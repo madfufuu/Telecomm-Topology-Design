{
 "cells": [
  {
   "cell_type": "code",
   "execution_count": 1,
   "id": "9768fbfc",
   "metadata": {},
   "outputs": [],
   "source": [
    "import networkx as nx\n",
    "import matplotlib.pyplot as plt"
   ]
  },
  {
   "cell_type": "code",
   "execution_count": 3,
   "id": "7788677c",
   "metadata": {},
   "outputs": [],
   "source": [
    "G = nx.Graph()"
   ]
  },
  {
   "cell_type": "code",
   "execution_count": 4,
   "id": "61f06dcf",
   "metadata": {},
   "outputs": [],
   "source": [
    "G.add_node(0, pos=(8.5, 10.5))\n",
    "G.add_node(1, pos=(5, 9))\n",
    "G.add_node(2, pos=(11.5, 8.5))\n",
    "G.add_node(3, pos=(5, 6.5))\n",
    "G.add_node(4, pos=(11.5, 5))\n",
    "G.add_node(5, pos=(1.5, 3.5))\n",
    "G.add_node(6, pos=(4.5, 2.5))\n",
    "G.add_node(7, pos=(7, 4.5))\n",
    "G.add_node(8, pos=(9, 3.5))\n",
    "G.add_node(9, pos=(12.5, 2.5))\n",
    "G.add_node(10, pos=(15.5, 4))"
   ]
  },
  {
   "cell_type": "code",
   "execution_count": 7,
   "id": "9bbf421c",
   "metadata": {},
   "outputs": [
    {
     "data": {
      "image/png": "[encoded data removed]",
      "text/plain": [
       "<Figure size 432x288 with 1 Axes>"
      ]
     },
     "metadata": {},
     "output_type": "display_data"
    }
   ],
   "source": [
    "nx.draw(graph, with_labels = True)"
   ]
  },
  {
   "cell_type": "code",
   "execution_count": 6,
   "id": "9221de60",
   "metadata": {},
   "outputs": [],
   "source": [
    "pos = nx.random_layout(graph)"
   ]
  },
  {
   "cell_type": "code",
   "execution_count": null,
   "id": "8873c91b",
   "metadata": {},
   "outputs": [],
   "source": []
  },
  {
   "cell_type": "code",
   "execution_count": null,
   "id": "be54c407",
   "metadata": {},
   "outputs": [],
   "source": []
  }
 ],
 "metadata": {
  "kernelspec": {
   "display_name": "atn",
   "language": "python",
   "name": "atn"
  },
  "language_info": {
   "codemirror_mode": {
    "name": "ipython",
    "version": 3
   },
   "file_extension": ".py",
   "mimetype": "text/x-python",
   "name": "python",
   "nbconvert_exporter": "python",
   "pygments_lexer": "ipython3",
   "version": "3.7.6"
  }
 },
 "nbformat": 4,
 "nbformat_minor": 5
}
