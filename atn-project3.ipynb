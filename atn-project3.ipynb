{
 "cells": [
  {
   "cell_type": "code",
   "execution_count": 1,
   "id": "9768fbfc",
   "metadata": {},
   "outputs": [],
   "source": [
    "import networkx as nx\n",
    "import matplotlib.pyplot as plt"
   ]
  },
  {
   "cell_type": "code",
   "execution_count": 11,
   "id": "7788677c",
   "metadata": {},
   "outputs": [],
   "source": [
    "G = nx.Graph()"
   ]
  },
  {
   "cell_type": "code",
   "execution_count": 12,
   "id": "61f06dcf",
   "metadata": {},
   "outputs": [],
   "source": [
    "G.add_node(5, pos=(1.5, 3.5))\n",
    "G.add_node(6, pos=(4.5, 2.5))\n",
    "G.add_node(7, pos=(7, 4.5))\n",
    "G.add_node(8, pos=(9, 3.5))\n",
    "G.add_node(9, pos=(12.5, 2.5))\n",
    "G.add_node(10, pos=(15.5, 4))\n",
    "G.add_node(0, pos=(8.5, 10.5))\n",
    "G.add_node(1, pos=(5, 9))\n",
    "G.add_node(2, pos=(11.5, 8.5))\n",
    "G.add_node(3, pos=(5, 6.5))\n",
    "G.add_node(4, pos=(11.5, 5))\n"
   ]
  },
  {
   "cell_type": "code",
   "execution_count": 27,
   "id": "9bbf421c",
   "metadata": {},
   "outputs": [],
   "source": [
    "G.add_edge(0, 1)\n",
    "G.add_edge(0, 2)\n",
    "G.add_edge(0, 3)"
   ]
  },
  {
   "cell_type": "code",
   "execution_count": 14,
   "id": "9221de60",
   "metadata": {},
   "outputs": [
    {
     "data": {
      "text/plain": [
       "NodeView((5, 6, 7, 8, 9, 10, 0, 1, 2, 3, 4))"
      ]
     },
     "execution_count": 14,
     "metadata": {},
     "output_type": "execute_result"
    }
   ],
   "source": [
    "G.nodes"
   ]
  },
  {
   "cell_type": "code",
   "execution_count": 15,
   "id": "8873c91b",
   "metadata": {},
   "outputs": [
    {
     "data": {
      "text/plain": [
       "NodeDataView({5: (1.5, 3.5), 6: (4.5, 2.5), 7: (7, 4.5), 8: (9, 3.5), 9: (12.5, 2.5), 10: (15.5, 4), 0: (8.5, 10.5), 1: (5, 9), 2: (11.5, 8.5), 3: (5, 6.5), 4: (11.5, 5)}, data='pos')"
      ]
     },
     "execution_count": 15,
     "metadata": {},
     "output_type": "execute_result"
    }
   ],
   "source": [
    "G.nodes(data=\"pos\")"
   ]
  },
  {
   "cell_type": "code",
   "execution_count": 33,
   "id": "be54c407",
   "metadata": {},
   "outputs": [
    {
     "data": {
      "image/png": "[encoded data removed]",
      "text/plain": [
       "<Figure size 432x288 with 1 Axes>"
      ]
     },
     "metadata": {},
     "output_type": "display_data"
    }
   ],
   "source": [
    "nx.draw(G, nx.get_node_attributes(G, \"pos\"), with_labels = True)\n",
    "plt.show()"
   ]
  },
  {
   "cell_type": "code",
   "execution_count": 50,
   "id": "80fc42a5",
   "metadata": {},
   "outputs": [
    {
     "data": {
      "text/plain": [
       "set"
      ]
     },
     "execution_count": 50,
     "metadata": {},
     "output_type": "execute_result"
    }
   ],
   "source": [
    "type(nx.node_connected_component(G, 3))"
   ]
  },
  {
   "cell_type": "code",
   "execution_count": 48,
   "id": "592cfc0a",
   "metadata": {},
   "outputs": [
    {
     "name": "stdout",
     "output_type": "stream",
     "text": [
      "---\n",
      "[]\n",
      "---\n",
      "[]\n",
      "---\n",
      "[]\n",
      "---\n",
      "[]\n",
      "---\n",
      "[]\n",
      "---\n",
      "[]\n",
      "---\n",
      "[1, 2, 3]\n",
      "[0]\n",
      "[0]\n",
      "[0]\n",
      "---\n",
      "[]\n"
     ]
    }
   ],
   "source": [
    "for subgraph in [G.subgraph(c).copy() for c in nx.connected_components(G)]:\n",
    "    print(\"---\")\n",
    "    for node in subgraph.nodes:\n",
    "        print(list(nx.neighbors(G, node)))"
   ]
  },
  {
   "cell_type": "code",
   "execution_count": 46,
   "id": "038c9abb",
   "metadata": {},
   "outputs": [
    {
     "data": {
      "text/plain": [
       "<dict_keyiterator at 0x7fa3ac704650>"
      ]
     },
     "execution_count": 46,
     "metadata": {},
     "output_type": "execute_result"
    }
   ],
   "source": [
    "nx.neighbors(G, 0)"
   ]
  },
  {
   "cell_type": "code",
   "execution_count": 52,
   "id": "07874106",
   "metadata": {},
   "outputs": [
    {
     "data": {
      "text/plain": [
       "True"
      ]
     },
     "execution_count": 52,
     "metadata": {},
     "output_type": "execute_result"
    }
   ],
   "source": [
    "G.has_edge(1, 0)"
   ]
  }
 ],
 "metadata": {
  "kernelspec": {
   "display_name": "atn",
   "language": "python",
   "name": "atn"
  },
  "language_info": {
   "codemirror_mode": {
    "name": "ipython",
    "version": 3
   },
   "file_extension": ".py",
   "mimetype": "text/x-python",
   "name": "python",
   "nbconvert_exporter": "python",
   "pygments_lexer": "ipython3",
   "version": "3.7.6"
  }
 },
 "nbformat": 4,
 "nbformat_minor": 5
}
